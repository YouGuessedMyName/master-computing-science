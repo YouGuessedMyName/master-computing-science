{
 "cells": [
  {
   "cell_type": "markdown",
   "id": "c0516d31-906b-4af5-8da8-61e37beb0c33",
   "metadata": {},
   "source": [
    "# Assignment 3"
   ]
  },
  {
   "cell_type": "code",
   "execution_count": 1,
   "id": "78302c88-1af5-47a6-99ec-44d51013b8c0",
   "metadata": {},
   "outputs": [],
   "source": [
    "use Array: all except {rsum};"
   ]
  },
  {
   "cell_type": "markdown",
   "id": "f8c58b5b-cc79-40dc-85bb-d4fd0883e466",
   "metadata": {},
   "source": [
    "### Vsum1\n"
   ]
  },
  {
   "cell_type": "code",
   "execution_count": 97,
   "id": "44291b6a-2c32-4873-8231-212a19d8f55e",
   "metadata": {},
   "outputs": [],
   "source": [
    "int[d:shp] vsum1 (int[n,d:shp] a) {\n",
    "  return with {\n",
    "     ([0] <= iv < [n]): a[iv];\n",
    "  } : fold(+, genarray(shp, 0));\n",
    "}"
   ]
  },
  {
   "cell_type": "markdown",
   "id": "611bb376-002f-4538-b15d-1d0898561f12",
   "metadata": {},
   "source": [
    "### Vsum2"
   ]
  },
  {
   "cell_type": "code",
   "execution_count": 108,
   "id": "3d3ce190-641e-4774-ade7-b0cb874b8581",
   "metadata": {},
   "outputs": [],
   "source": [
    "int[d:shp] vsum2 (int[n,d:shp] a) {\n",
    "  return {iv -> \n",
    "    sum(\n",
    "        {[i] -> a[i][iv] | [i] < [n]}\n",
    "    ) | iv < shp\n",
    "  };\n",
    "}"
   ]
  },
  {
   "cell_type": "markdown",
   "id": "1c34626f-b51c-4a57-879f-e9bd9444476c",
   "metadata": {},
   "source": [
    "### Rsum"
   ]
  },
  {
   "cell_type": "code",
   "execution_count": 112,
   "id": "23e456bb-d9ef-4aba-95f5-21e7233c9467",
   "metadata": {},
   "outputs": [],
   "source": [
    "int[d:ishp] rsum (int n, int[n:oshp,d:ishp] a){\n",
    "  return {iv -> \n",
    "    sum(\n",
    "        {i -> a[i][iv] | i < oshp}\n",
    "    ) | iv < ishp\n",
    "  };\n",
    "}"
   ]
  }
 ],
 "metadata": {
  "kernelspec": {
   "display_name": "SaC",
   "language": "sac",
   "name": "sac"
  },
  "language_info": {
   "file_extension": ".sac",
   "mimetype": "text/plain",
   "name": "sac"
  }
 },
 "nbformat": 4,
 "nbformat_minor": 5
}
